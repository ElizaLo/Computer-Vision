{
 "cells": [
  {
   "cell_type": "code",
   "execution_count": 1,
   "metadata": {},
   "outputs": [],
   "source": [
    "import cv2\n",
    "import numpy as np"
   ]
  },
  {
   "cell_type": "markdown",
   "metadata": {},
   "source": [
    "# Open picture"
   ]
  },
  {
   "cell_type": "code",
   "execution_count": 2,
   "metadata": {},
   "outputs": [],
   "source": [
    "img = cv2.imread(\"Flower.jpeg\")"
   ]
  },
  {
   "cell_type": "code",
   "execution_count": 3,
   "metadata": {},
   "outputs": [],
   "source": [
    "cv2.imshow(\"Flower\", img)\n",
    "cv2.waitKey(0) # количество миллисекунд, которые ждём\n",
    "cv2.destroyAllWindows()\n",
    "for i in range (1,5):\n",
    "    cv2.waitKey(1)"
   ]
  },
  {
   "cell_type": "markdown",
   "metadata": {},
   "source": [
    "# Open Web Camera"
   ]
  },
  {
   "cell_type": "code",
   "execution_count": 2,
   "metadata": {},
   "outputs": [
    {
     "name": "stdout",
     "output_type": "stream",
     "text": [
      "720 1280\n"
     ]
    }
   ],
   "source": [
    "dev = cv2.VideoCapture(0) # запись с видеокамеры. Цифра - номер девайся\n",
    "\n",
    "while(True):\n",
    "    ret, frame = dev.read() # ret - считало или нет, frame - картинка\n",
    "    if (not ret):\n",
    "        continue\n",
    "    xSize, ySize, _ = frame.shape\n",
    "    cv2.imshow(\"webcam\", frame)\n",
    "    if (cv2.waitKey(1) == ord('q')): # если нажимаем \"q\", то окно закрывается\n",
    "        break\n",
    "\n",
    "dev.release()\n",
    "\n",
    "cv2.destroyAllWindows()\n",
    "for i in range (1,5):\n",
    "    cv2.waitKey(1)\n",
    "\n",
    "print(xSize, ySize)"
   ]
  },
  {
   "cell_type": "markdown",
   "metadata": {},
   "source": [
    "# Camera Recording into file"
   ]
  },
  {
   "cell_type": "code",
   "execution_count": 2,
   "metadata": {},
   "outputs": [],
   "source": [
    "dev = cv2.VideoCapture(0) # запись с видеокамеры. Цифра - номер девайся\n",
    "fourcc = cv2.VideoWriter_fourcc(*\"mp4v\") # fourcc - video codec, XVID - codec\n",
    "# Video Writer\n",
    "writer = cv2.VideoWriter(\"res.mp4\", fourcc, 20, (1280, 720))\n",
    "    # 1 параметр - название файла, который мы запишем, \n",
    "    # 2 - codec\n",
    "    # 3 - Frames Per Second (FPS) — количество кадров в секунду на экране монитора \n",
    "    # 4 - размер\n",
    "        \n",
    "while(True):\n",
    "    ret, frame = dev.read() # ret - считало или нет, frame - картинка\n",
    "    if (not ret):\n",
    "        continue\n",
    "    writer.write(frame)\n",
    "    cv2.imshow(\"webcam\", frame)\n",
    "    if (cv2.waitKey(1) == ord('q')): # если нажимаем \"q\", то окно закрывается\n",
    "        break\n",
    "        \n",
    "dev.release()\n",
    "writer.release()\n",
    "cv2.destroyAllWindows()\n",
    "for i in range (1,5):\n",
    "    cv2.waitKey(1)"
   ]
  },
  {
   "cell_type": "markdown",
   "metadata": {},
   "source": [
    "# Face Detector on WebCam"
   ]
  },
  {
   "cell_type": "code",
   "execution_count": 2,
   "metadata": {},
   "outputs": [],
   "source": [
    "face_detector = cv2.CascadeClassifier('/Users/elizabethlorelei/anaconda3/pkgs/opencv3-3.1.0-py35_0/share/OpenCV/haarcascades/haarcascade_frontalface_default.xml')"
   ]
  },
  {
   "cell_type": "code",
   "execution_count": 3,
   "metadata": {},
   "outputs": [
    {
     "name": "stdout",
     "output_type": "stream",
     "text": [
      "720 1280\n"
     ]
    }
   ],
   "source": [
    "dev = cv2.VideoCapture(0) # запись с видеокамеры. Цифра - номер девайся\n",
    "\n",
    "while(True):\n",
    "    ret, frame = dev.read() # ret - считало или нет, frame - картинка, поточная картинка с webcam\n",
    "    if (not ret):\n",
    "        continue\n",
    "    xSize, ySize, _ = frame.shape \n",
    "    cv2.imshow(\"webcam\", frame)\n",
    "    frame_gray = cv2.cvtColor(frame, cv2.COLOR_BGR2GRAY) # converting RGB to Gray\n",
    "    faces = face_detector.detectMultiScale(frame_gray) # detecting\n",
    "    # рисуем квадратик вокруг лица\n",
    "    for (x, y, width, height) in faces: # x, y - координаты верхнего левого угла квадрата\n",
    "        cv2.rectangle(frame, (x,y), (x + width, y + height), [0, 0, 255 ], 10)\n",
    "    cv2.imshow(\"faces\", frame)\n",
    "    if (cv2.waitKey(1) == ord('q')): # если нажимаем \"q\", то окно закрывается\n",
    "        break\n",
    "\n",
    "dev.release()\n",
    "\n",
    "cv2.destroyAllWindows()\n",
    "for i in range (1,5):\n",
    "    cv2.waitKey(1)\n",
    "\n",
    "print(xSize, ySize)"
   ]
  },
  {
   "cell_type": "markdown",
   "metadata": {},
   "source": [
    "# Detecting blue squares from WebCam"
   ]
  },
  {
   "cell_type": "code",
   "execution_count": 2,
   "metadata": {},
   "outputs": [
    {
     "name": "stdout",
     "output_type": "stream",
     "text": [
      "RGB:  [[[130  70  30]]]\n",
      "HSV:  [[[108 196 130]]]\n",
      "108\n"
     ]
    }
   ],
   "source": [
    "blue = np.array([130, 70, 30], dtype = np.uint8).reshape(1,1,3)\n",
    "print(\"RGB: \", blue )\n",
    "\n",
    "HSV = cv2.cvtColor(blue, cv2.COLOR_BGR2HSV)\n",
    "print(\"HSV: \", HSV)\n",
    "\n",
    "h_blue = int(cv2.cvtColor(blue, cv2.COLOR_BGR2HSV).reshape(-1)[0])# convert RGB to HSV \n",
    "print(h_blue)"
   ]
  },
  {
   "cell_type": "code",
   "execution_count": 3,
   "metadata": {},
   "outputs": [
    {
     "name": "stdout",
     "output_type": "stream",
     "text": [
      "720 1280\n"
     ]
    }
   ],
   "source": [
    "dev = cv2.VideoCapture(0) # запись с видеокамеры. Цифра - номер девайся\n",
    "\n",
    "while(True):\n",
    "    ret, frame = dev.read() # ret - считало или нет, frame - картинка\n",
    "    if (not ret):\n",
    "        continue\n",
    "    xSize, ySize, _ = frame.shape\n",
    "    cv2.imshow(\"webcam\", frame)\n",
    "    frame_hsv = cv2.cvtColor(frame, cv2.COLOR_BGR2HSV)\n",
    "    \n",
    "    lowerBlue = np.uint8([h_blue - 10, 50, 50])\n",
    "    upperBlue = np.uint8([h_blue + 10, 255, 255])\n",
    "    \n",
    "    mask = cv2.inRange(frame_hsv, lowerBlue, upperBlue) # пиксели, которые подходят\n",
    "    mask = cv2.medianBlur(mask, 21) # медианное размытие\n",
    "    \n",
    "    out = cv2.connectedComponentsWithStats(mask) # связные компоненты\n",
    "    #print(out[0])\n",
    "    if (out[0] == 5): #4 точки и 1 - всё остальное кроме точек\n",
    "        centroids = out[3]\n",
    "        blob_centers = centroids[1:, :].astype(np.float32)\n",
    "        destination = np.array([[0,0], [xSize, 0], [0, ySize], [xSize, ySize]], dtype = np.float32)\n",
    "        M = cv2.getPerspectiveTransform(blob_centers, destination) # Matrix\n",
    "        frame_transformed = cv2.warpPerspective(frame, M,  (xSize, ySize))\n",
    "        cv2.imshow (\"frame_transformed\", frame_transformed)\n",
    "    frame = cv2.bitwise_and(frame, frame, mask = mask)\n",
    "    cv2.imshow(\"points\", frame)\n",
    "    \n",
    "    if (cv2.waitKey(1) == ord('q')): # если нажимаем \"q\", то окно закрывается\n",
    "        break\n",
    "\n",
    "dev.release()\n",
    "\n",
    "cv2.destroyAllWindows()\n",
    "for i in range (1,5):\n",
    "    cv2.waitKey(1)\n",
    "\n",
    "print(xSize, ySize)"
   ]
  }
 ],
 "metadata": {
  "kernelspec": {
   "display_name": "Python 3",
   "language": "python",
   "name": "python3"
  },
  "language_info": {
   "codemirror_mode": {
    "name": "ipython",
    "version": 3
   },
   "file_extension": ".py",
   "mimetype": "text/x-python",
   "name": "python",
   "nbconvert_exporter": "python",
   "pygments_lexer": "ipython3",
   "version": "3.5.5"
  }
 },
 "nbformat": 4,
 "nbformat_minor": 2
}
